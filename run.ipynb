{
 "cells": [
  {
   "cell_type": "code",
   "execution_count": 1,
   "metadata": {},
   "outputs": [
    {
     "name": "stdout",
     "output_type": "stream",
     "text": [
      "==> Preparing data..\n",
      "Files already downloaded and verified\n",
      "Files already downloaded and verified\n",
      "==> Building model..\n",
      "Downloading: \"https://github.com/pytorch/vision/archive/v0.6.0.zip\" to /Users/YuhouZhou/.cache/torch/hub/v0.6.0.zip\n",
      "Downloading: \"https://download.pytorch.org/models/mobilenet_v2-b0353104.pth\" to /Users/YuhouZhou/.cache/torch/checkpoints/mobilenet_v2-b0353104.pth\n",
      "100%|██████████████████████████████████████| 13.6M/13.6M [00:04<00:00, 2.85MB/s]\n",
      "\n",
      "Epoch: 0\n",
      " [>................................................................]  Step: 24s253ms | Tot: 0ms | Loss: 13.762 | Acc: 0.781% (1/12 1/391 \r"
     ]
    }
   ],
   "source": [
    "! python main.py"
   ]
  },
  {
   "cell_type": "code",
   "execution_count": null,
   "metadata": {},
   "outputs": [],
   "source": []
  }
 ],
 "metadata": {
  "kernelspec": {
   "display_name": "Python [conda env:podnet]",
   "language": "python",
   "name": "conda-env-podnet-py"
  }
 },
 "nbformat": 4,
 "nbformat_minor": 2
}
